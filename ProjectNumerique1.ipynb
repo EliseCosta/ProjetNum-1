{
 "cells": [
  {
   "cell_type": "markdown",
   "metadata": {},
   "source": [
    "# Projet numérique : ligne de niveau\n",
    "\n",
    "Philomène Blot et Elise Costa"
   ]
  },
  {
   "cell_type": "markdown",
   "metadata": {},
   "source": [
    "## Amorce"
   ]
  },
  {
   "cell_type": "markdown",
   "metadata": {},
   "source": [
    "Condition raisonnable : comme f est supposée continûment différentiable, alors elle est continue.\n",
    "Posons g : t -> f(0,t). Par construction, g est aussi continue sur [0,1].\n",
    "\n",
    "D'après le TVI si f(0,0) = g(0) <= c et si f(0,1) = g(1) >= c ou vice-versa, il existe bien t appartenant à [0,1] tel que g(t) = f(0,t) = c"
   ]
  },
  {
   "cell_type": "markdown",
   "metadata": {},
   "source": [
    "#### Fonction conforme au squelette"
   ]
  },
  {
   "cell_type": "markdown",
   "metadata": {},
   "source": [
    "Plusieurs algorithmes existent pour trouver un tel t. Comme l'appel à la fonction qui permettra de l'obtenir est unique, on choisit d'implémenter une dichotomie par soucis de simplicité sur les hypothèses (la complexité de find_seed, ici, partie_entière(log2(eps)), est négligeable devant celle de la fonction contour_simple)"
   ]
  },
  {
   "cell_type": "code",
   "execution_count": 16,
   "metadata": {},
   "outputs": [],
   "source": [
    "def find_seed(g, c=0, eps=2**(-26)) :\n",
    "    fa, fb = g(0.0,0.0), g(0.0,1.0)\n",
    "    \n",
    "    # on teste si on se trouve dans le cas du TVI\n",
    "    if (fa > c and fb > c) or (fa < c and fb < c) :\n",
    "        raise ValueError(\"Dichotomie impossible\")\n",
    "    \n",
    "    # on est dans le cas du TVI\n",
    "    else :\n",
    "        # on chercher qui de fa ou de fb est plus grand que c\n",
    "        fpetit = min(fa, fb)\n",
    "        fgrand = max(fa,fb)\n",
    "        if fpetit == fa :\n",
    "            petit, grand = 0, 1\n",
    "        else :\n",
    "            petit, grand = 1, 0\n",
    "            \n",
    "        m = (petit + grand)/2 \n",
    "        fm = g(0,m)\n",
    "        \n",
    "        while (abs(fm - c) > eps) : \n",
    "            if fm >= c :\n",
    "                grand, fgrand = m, fm\n",
    "            else :\n",
    "                petit, fpetit = m, fm\n",
    "            m = (petit + grand)/2\n",
    "            fm = g(0,m)\n",
    "            \n",
    "        return float(m)"
   ]
  },
  {
   "cell_type": "markdown",
   "metadata": {},
   "source": [
    "#### test"
   ]
  },
  {
   "cell_type": "code",
   "execution_count": 17,
   "metadata": {},
   "outputs": [
    {
     "data": {
      "text/plain": [
       "0.49000000953674316"
      ]
     },
     "execution_count": 17,
     "metadata": {},
     "output_type": "execute_result"
    }
   ],
   "source": [
    "def g(x,y) :\n",
    "    return x+y+0.01\n",
    "find_seed(g,0.5)"
   ]
  },
  {
   "cell_type": "markdown",
   "metadata": {},
   "source": [
    "La fonction dichotomie fonctionne bien."
   ]
  },
  {
   "cell_type": "markdown",
   "metadata": {},
   "source": [
    "## Propagation"
   ]
  },
  {
   "cell_type": "markdown",
   "metadata": {},
   "source": [
    "On utilise la méthode de Newton généralisée appliquée à la fonction F :\n",
    "\n",
    "\n",
    "$\\begin{array}{ccccc}\n",
    "F_{n+1}& : & \\mathbb{R}^{2} & \\to & \\mathbb{R}^{2} \\\\\n",
    " & & \\left( \\begin{array}{c}\n",
    "x \\\\\n",
    "y \\\\\n",
    "\\end{array} \\right) & \\mapsto & \\left( \\begin{array}{c}\n",
    "f(x,y)-c \\\\\n",
    "(x-x_{n})^2 +(y-y_{n})^2 - \\delta^2 \\\\\n",
    "\\end{array} \\right) \\\\\n",
    "\\end{array}$\n",
    "\n",
    "On cherche à tracer la ligne de niveau d'une fonction f qui respecte les conditions énoncées dans l'amorce. Pour cela, l'énoncé nous demande de renvoyer à partir de f, deux listes correspondant respectivement aux abscisses et ordonées des points de cette ligne. La distance entre deux points consécutifs ne doit pas excéder une valeur delta (= 0.01 par défaut) \n",
    "\n",
    "On a recours à un processus itératif.\n",
    "On note x et y les listes contenant respectivement l'abscisse et l'ordonnée de chaque point trouvé.\n",
    "Pour respecter la condition , on pose à chaque n + 1-ème étape la fonction : \\begin{equation} F_{n+1} \n",
    "\\end{equation} définie comme ci-dessus.\n",
    "\n",
    "  \n",
    "Avec  \\begin{equation} V_{n} =  \n",
    " \\left( \\begin{array}{c}\n",
    "v_{nx} \\\\\n",
    "v_{ny} \\\\\n",
    "\\end{array} \\right)\n",
    "\\end{equation}\n",
    " qui correspond au point proche que l'on a trouvé à partir du point  𝑋𝑛 (cf Rubrique point proche pour plus d'explications).\n",
    "On applique ensuite à cette fonction la méthode de Newton non lisse.\n",
    "D'après le cours, on sait que le  𝑋𝑛 de la ligne de niveau s'obtient par la formule suivante :\n",
    "                       $X_{n+1}$ = $X_n - J_{n}^{-1}(X_n)F_{n}(X_n)$\n",
    "Avec  𝐽−1𝑛 l'inverse de la jacobienne de  𝐹𝑛 bien définie grâce aux hypothèses formulées sur f.\n",
    "On s'arrête lorsque l'on obtient un point qui sort du cadre de contour simple."
   ]
  },
  {
   "cell_type": "markdown",
   "metadata": {},
   "source": [
    "On installe autograd :"
   ]
  },
  {
   "cell_type": "code",
   "execution_count": 18,
   "metadata": {},
   "outputs": [
    {
     "name": "stdout",
     "output_type": "stream",
     "text": [
      "Requirement already satisfied: autograd in c:\\users\\test\\anaconda3\\lib\\site-packages (1.3)\n",
      "Requirement already satisfied: numpy>=1.12 in c:\\users\\test\\anaconda3\\lib\\site-packages (from autograd) (1.16.5)\n",
      "Requirement already satisfied: future>=0.15.2 in c:\\users\\test\\anaconda3\\lib\\site-packages (from autograd) (0.17.1)\n",
      "Note: you may need to restart the kernel to use updated packages.\n"
     ]
    }
   ],
   "source": [
    "pip install autograd"
   ]
  },
  {
   "cell_type": "markdown",
   "metadata": {},
   "source": [
    "On charge les modules dont on aura besoin"
   ]
  },
  {
   "cell_type": "code",
   "execution_count": 19,
   "metadata": {},
   "outputs": [],
   "source": [
    "from math import sqrt\n",
    "import autograd\n",
    "from autograd import numpy as np\n",
    "import matplotlib.pyplot as plt"
   ]
  },
  {
   "cell_type": "markdown",
   "metadata": {},
   "source": [
    "On code les fonctions auxiliaires :"
   ]
  },
  {
   "cell_type": "markdown",
   "metadata": {},
   "source": [
    "1/ Fonctions pour obtenir le point proche"
   ]
  },
  {
   "cell_type": "markdown",
   "metadata": {},
   "source": [
    "Pour trouver à la n+1 étape le point proche qui va nous servir de point de départ à notre méthode de newton, on effectue un calcul du gradient de notre fonction f au point  𝑋𝑛 trouvé à la n-ième étape.\n",
    "Comme on sait que le gradient est orthogonal aux lignes de niveau, on obtient alors à partir du calcul (1), la direction selon laquelle on se déplace depuis notre point  𝑋𝑛.\n",
    "\n",
    "On se déplace alors à gauche ou à droite du distance delta. On obtient par ce procédé le point proche  𝑉𝑛."
   ]
  },
  {
   "cell_type": "code",
   "execution_count": 1,
   "metadata": {},
   "outputs": [],
   "source": [
    "def norme(X):\n",
    "    return sqrt(X[0][0]**2 + X[1][0]**2)\n",
    "\n",
    "def gradient_f(f,a,b) :\n",
    "    g = autograd.grad\n",
    "    return np.r_[g(f,0)(float(a),float(b)), g(f,1)(float(a),float(b))]\n",
    "\n",
    "# premier choix pour le vecteur tangeant\n",
    "def pointProche_1(f,x,y, delta) :\n",
    "    # calcul du gradient\n",
    "    grad = gradient_f(f,float(x),float(y))\n",
    "    # on obtient la direction voulue à partir des coordonnées calculées\n",
    "    v = np.array([[-grad[1]],[grad[0]]])    \n",
    "    n = norme(v)\n",
    "    # on fait attention à ce que le gradient ne soit pas nul\n",
    "    if n == 0 :\n",
    "        raise ValueError(\"Division par 0 interdite\")\n",
    "    else :\n",
    "        return np.array([[x],[y]]) + (v/n)*delta\n",
    "\n",
    "# deuxième choix pour le vecteur tangent    \n",
    "def pointProche_2(f,x,y, delta) :\n",
    "    grad = gradient_f(f,float(x),float(y))\n",
    "    v = np.array([[grad[1]],[-grad[0]]])  \n",
    "    n = norme(v)\n",
    "    if n == 0 :\n",
    "        raise ValueError(\"Division par 0 interdite\")\n",
    "    else :\n",
    "        return np.array([[x],[y]]) + (v/n)*delta  "
   ]
  },
  {
   "cell_type": "markdown",
   "metadata": {},
   "source": [
    "2/ Fonctions pour obtenir le nouveau point de la liste"
   ]
  },
  {
   "cell_type": "markdown",
   "metadata": {},
   "source": [
    "On se place toujours à la n+1 ième étape. Pour obtenir le point  𝑋𝑛+1 , on utilise la méthode de Newton explicitée plus haut. On calcule alors la jacobienne de la fonction  𝐹𝑛  grâce à autograd. Puis on l'évalue au point  𝑋𝑛."
   ]
  },
  {
   "cell_type": "code",
   "execution_count": 2,
   "metadata": {},
   "outputs": [],
   "source": [
    "def J_F(F,a,b) :\n",
    "    # calcul de la jacobienne\n",
    "    j = autograd.jacobian\n",
    "    return np.c_[j(F,0)(float(a),float(b)), j(F,1)(float(a),float(b))]\n",
    "    \n",
    "def Newton(F, v, eps = 2**(-26), maxiter = 100) :\n",
    "    for _ in range(maxiter) :\n",
    "        # calcul de l'inverse de la jacobienne conformément à la formule\n",
    "        J_inv = np.linalg.inv(J_F(F, v[0][0],v[1][0]))\n",
    "        # on applique la formule\n",
    "        X = v - np.dot(J_inv, F(v[0][0],v[1][0]).T)\n",
    "        if (norme(X-v) < eps ) :\n",
    "            return X\n",
    "        else :\n",
    "            v = X\n",
    "    return(X)"
   ]
  },
  {
   "cell_type": "code",
   "execution_count": 4,
   "metadata": {},
   "outputs": [],
   "source": [
    "def simple_contour( f, c=0.0, delta= 0.01):\n",
    "    x, y = [], []\n",
    "    # on cherche le premier point dans l'ensemble {0}*[0,1]\n",
    "    try :\n",
    "        yo = find_seed(f,c)\n",
    "    except ValueError :\n",
    "        return x,y\n",
    "    # on initialise alors nos deux listes\n",
    "    x.append(0)\n",
    "    y.append(float(yo))\n",
    "    \n",
    "    #on a trouvé le premier point    \n",
    "    bool_continuation = True\n",
    "    \n",
    "    #on implémente la fonction F définie plus haut\n",
    "    def F(a,b) :\n",
    "             return np.array([f(a,b)-c, (a-x[-1])**2 + (b-y[-1])**2 - delta**5])\n",
    "    \n",
    "    # on cherche à partir à droite du côté gauche pour être dans le carré et on suivra toujours ce sens pour la création de la ligne de niveau\n",
    "    premier_grad = gradient_f(f,x[-1],y[-1])\n",
    "    if premier_grad[1] >= 0 :\n",
    "        pointProche = lambda f,x,y,delta : pointProche_2(f,x,y,delta)\n",
    "    else :\n",
    "        pointProche = lambda f,x,y,delta : pointProche_1(f,x,y,delta)\n",
    "    \n",
    "    \n",
    "    while bool_continuation :\n",
    "        \n",
    "        # on cherche un premier point proche\n",
    "        try :\n",
    "            v = pointProche(f,x[-1],y[-1], delta)\n",
    "        except ValueError:\n",
    "            return x,y\n",
    "        X = Newton(F,v)\n",
    "        # (a,b) vérifie les conditions voulues pour faire partie de la ligne de niveau i.e. est dans le carré\n",
    "        a,b = X[0,0],X[1,0]\n",
    "        if a>=0 and a<=1 and b>=0 and b<=1 :\n",
    "            x.append(a)\n",
    "            y.append(b)\n",
    "        else :\n",
    "            bool_continuation = False\n",
    "    \n",
    "    return x,y"
   ]
  },
  {
   "cell_type": "code",
   "execution_count": null,
   "metadata": {},
   "outputs": [],
   "source": []
  },
  {
   "cell_type": "markdown",
   "metadata": {},
   "source": [
    "Test"
   ]
  },
  {
   "cell_type": "code",
   "execution_count": 23,
   "metadata": {},
   "outputs": [],
   "source": [
    "def f(x,y) : \n",
    "    return(x**2+y**2 - 0.5)"
   ]
  },
  {
   "cell_type": "code",
   "execution_count": 24,
   "metadata": {},
   "outputs": [],
   "source": [
    "x,y = simple_contour(f, c=0.3)"
   ]
  },
  {
   "cell_type": "code",
   "execution_count": 25,
   "metadata": {},
   "outputs": [
    {
     "data": {
      "image/png": "[encoded data removed]",
      "text/plain": [
       "<Figure size 432x288 with 1 Axes>"
      ]
     },
     "metadata": {
      "needs_background": "light"
     },
     "output_type": "display_data"
    }
   ],
   "source": [
    "plt.scatter(x,y)\n",
    "plt.xlim(0,1)\n",
    "plt.ylim(0,1)\n",
    "plt.show()"
   ]
  },
  {
   "cell_type": "markdown",
   "metadata": {},
   "source": [
    "##  Contour complexe"
   ]
  },
  {
   "cell_type": "code",
   "execution_count": 5,
   "metadata": {},
   "outputs": [],
   "source": [
    "# Rotators\n",
    "# ------------------------------------------------------------------------------\n",
    "LEFT, UP, RIGHT, DOWN = 0, 1, 2, 3  # clockwise"
   ]
  },
  {
   "cell_type": "code",
   "execution_count": 6,
   "metadata": {},
   "outputs": [],
   "source": [
    "def rotate_direction(direction, n=1):\n",
    "    return (direction + n) % 4\n",
    "\n",
    "\n",
    "def rotate(x, y, n=1):\n",
    "    if n == 0:\n",
    "        return x, y\n",
    "    elif n >= 1:\n",
    "        return rotate(1 - y, x, n - 1)\n",
    "    else:\n",
    "        assert n < 0\n",
    "        return rotate(x, y, n=-3 * n)\n",
    "\n",
    "\n",
    "def rotate_function(f, n=1):\n",
    "    def rotated_function(x, y):\n",
    "        xr, yr = rotate(x, y, -n)\n",
    "        return f(xr, yr)\n",
    "\n",
    "    return rotated_function"
   ]
  },
  {
   "cell_type": "code",
   "execution_count": 7,
   "metadata": {},
   "outputs": [],
   "source": [
    "# Complex Contouring\n",
    "# ------------------------------------------------------------------------------\n",
    "\n",
    "# Customize the simple_contour function used in contour :\n",
    "# simple_contour = smart_simple_contour\n",
    "\n",
    "\n",
    "def contour(f, c, xs=[0.0, 1.0], ys=[0.0, 1.0], delta=0.01):\n",
    "    curves = []\n",
    "    nx, ny = len(xs), len(ys)\n",
    "    for i in range(nx - 1):\n",
    "        for j in range(ny - 1):\n",
    "            xmin, xmax = xs[i], xs[i + 1]\n",
    "            ymin, ymax = ys[j], ys[j + 1]\n",
    "\n",
    "            def f_cell(x, y):\n",
    "                return f(xmin + (xmax - xmin) * x, ymin + (ymax - ymin) * y)\n",
    "\n",
    "            done = set()\n",
    "            for n in [0, 1, 2, 3]:\n",
    "                if n not in done:\n",
    "                    rotated_f_cell = rotate_function(f_cell, n)\n",
    "                    x_curve_r, y_curve_r = simple_contour(rotated_f_cell, c, delta)\n",
    "                    exit = None\n",
    "                    if len(x_curve_r) >= 1:\n",
    "                        xf, yf = x_curve_r[-1], y_curve_r[-1]\n",
    "                        if xf == 0.0:\n",
    "                            exit = LEFT\n",
    "                        elif xf == 1.0:\n",
    "                            exit = RIGHT\n",
    "                        elif yf == 0.0:\n",
    "                            exit = DOWN\n",
    "                        elif yf == 1.0:\n",
    "                            exit = UP\n",
    "                    if exit is not None:  # a fully successful contour fragment\n",
    "                        exit = rotate_direction(exit, n)\n",
    "                        done.add(exit)\n",
    "\n",
    "                    x_curve, y_curve = [], []\n",
    "                    for x_r, y_r in zip(x_curve_r, y_curve_r):\n",
    "                        x, y = rotate(x_r, y_r, n=-n)\n",
    "                        x_curve.append(x)\n",
    "                        y_curve.append(y)\n",
    "                    x_curve = np.array(x_curve)\n",
    "                    y_curve = np.array(y_curve)\n",
    "                    curves.append(\n",
    "                        (xmin + (xmax - xmin) * x_curve, ymin + (ymax - ymin) * y_curve)\n",
    "                    )\n",
    "    return curves"
   ]
  },
  {
   "cell_type": "code",
   "execution_count": null,
   "metadata": {},
   "outputs": [],
   "source": []
  },
  {
   "cell_type": "code",
   "execution_count": null,
   "metadata": {},
   "outputs": [],
   "source": []
  }
 ],
 "metadata": {
  "kernelspec": {
   "display_name": "Python 3",
   "language": "python",
   "name": "python3"
  },
  "language_info": {
   "codemirror_mode": {
    "name": "ipython",
    "version": 3
   },
   "file_extension": ".py",
   "mimetype": "text/x-python",
   "name": "python",
   "nbconvert_exporter": "python",
   "pygments_lexer": "ipython3",
   "version": "3.7.4"
  }
 },
 "nbformat": 4,
 "nbformat_minor": 2
}
